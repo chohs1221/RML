{
 "cells": [
  {
   "cell_type": "markdown",
   "id": "a99ff6a0",
   "metadata": {},
   "source": [
    "# Linear Regression"
   ]
  },
  {
   "cell_type": "code",
   "execution_count": 1,
   "id": "9058b142",
   "metadata": {},
   "outputs": [],
   "source": [
    "import torch\n",
    "import torch.nn as nn\n",
    "import torch.nn.functional as F\n",
    "import torch.optim as optim"
   ]
  },
  {
   "cell_type": "code",
   "execution_count": 2,
   "id": "7b6c005d",
   "metadata": {},
   "outputs": [
    {
     "name": "stdout",
     "output_type": "stream",
     "text": [
      "tensor([[1.],\n",
      "        [2.],\n",
      "        [3.]])\n",
      "tensor([[2.],\n",
      "        [4.],\n",
      "        [6.]])\n"
     ]
    }
   ],
   "source": [
    "x_train = torch.FloatTensor([[1], [2], [3]])\n",
    "y_train = torch.FloatTensor([[2], [4], [6]])\n",
    "print(x_train)\n",
    "print(y_train)"
   ]
  },
  {
   "cell_type": "code",
   "execution_count": 3,
   "id": "ebb89a22",
   "metadata": {},
   "outputs": [
    {
     "name": "stdout",
     "output_type": "stream",
     "text": [
      "tensor([0.], requires_grad=True)\n"
     ]
    }
   ],
   "source": [
    "W = torch.zeros(1, requires_grad=True)\n",
    "print(W)"
   ]
  },
  {
   "cell_type": "code",
   "execution_count": 4,
   "id": "b4bde678",
   "metadata": {},
   "outputs": [
    {
     "name": "stdout",
     "output_type": "stream",
     "text": [
      "tensor([0.], requires_grad=True)\n"
     ]
    }
   ],
   "source": [
    "b = torch.zeros(1, requires_grad=True)\n",
    "print(b)"
   ]
  },
  {
   "cell_type": "code",
   "execution_count": 5,
   "id": "5cac6a48",
   "metadata": {},
   "outputs": [
    {
     "name": "stdout",
     "output_type": "stream",
     "text": [
      "tensor([[0.],\n",
      "        [0.],\n",
      "        [0.]], grad_fn=<AddBackward0>)\n"
     ]
    }
   ],
   "source": [
    "H = x_train * W + b\n",
    "print(H)"
   ]
  },
  {
   "cell_type": "code",
   "execution_count": 6,
   "id": "3738800d",
   "metadata": {},
   "outputs": [
    {
     "name": "stdout",
     "output_type": "stream",
     "text": [
      "tensor(18.6667, grad_fn=<MeanBackward0>)\n"
     ]
    }
   ],
   "source": [
    "cost = torch.mean((H - y_train) ** 2)\n",
    "print(cost)"
   ]
  },
  {
   "cell_type": "code",
   "execution_count": 7,
   "id": "1e1bff54",
   "metadata": {},
   "outputs": [],
   "source": [
    "optimizer = optim.SGD([W, b], lr = 0.01)"
   ]
  },
  {
   "cell_type": "code",
   "execution_count": 8,
   "id": "227c13ac",
   "metadata": {},
   "outputs": [],
   "source": [
    "# gradient를 0으로 초기화 -> 새로운 가중치 편향에 대해서 새로운 기울기를 구함\n",
    "optimizer.zero_grad()\n",
    "# 비용 함수를 미분하여 gradient 계산\n",
    "cost.backward()\n",
    "# W와 b를 업데이트\n",
    "optimizer.step()"
   ]
  },
  {
   "cell_type": "code",
   "execution_count": 9,
   "id": "0f54daf9",
   "metadata": {},
   "outputs": [
    {
     "name": "stdout",
     "output_type": "stream",
     "text": [
      "tensor([0.1867], requires_grad=True)\n"
     ]
    }
   ],
   "source": [
    "print(W)"
   ]
  },
  {
   "cell_type": "code",
   "execution_count": 10,
   "id": "bc215a21",
   "metadata": {},
   "outputs": [
    {
     "name": "stdout",
     "output_type": "stream",
     "text": [
      "epoch:    0/3000 W: 0.353, b: 0.151 cost: 14.771\n",
      "epoch:  300/3000 W: 1.843, b: 0.356 cost: 0.0183056\n",
      "epoch:  600/3000 W: 1.924, b: 0.173 cost: 0.00431935\n",
      "epoch:  900/3000 W: 1.963, b: 0.084 cost: 0.00101919\n",
      "epoch: 1200/3000 W: 1.982, b: 0.041 cost: 0.000240487\n",
      "epoch: 1500/3000 W: 1.991, b: 0.020 cost: 5.67445e-05\n",
      "epoch: 1800/3000 W: 1.996, b: 0.010 cost: 1.33891e-05\n",
      "epoch: 2100/3000 W: 1.998, b: 0.005 cost: 3.15979e-06\n",
      "epoch: 2400/3000 W: 1.999, b: 0.002 cost: 7.45942e-07\n",
      "epoch: 2700/3000 W: 2.000, b: 0.001 cost: 1.76447e-07\n"
     ]
    }
   ],
   "source": [
    "epochs = 3000\n",
    "for epoch in range(epochs):\n",
    "    H = x_train * W + b\n",
    "    cost = torch.mean((H-y_train) ** 2)\n",
    "    \n",
    "    optimizer.zero_grad()\n",
    "    cost.backward()\n",
    "    optimizer.step()\n",
    "    \n",
    "    if epoch % 300 == 0:\n",
    "        print(\"epoch: {:4d}/{} W: {:.3f}, b: {:.3f} cost: {:.6}\".format(epoch, epochs, W.item(), b.item(), cost.item()))"
   ]
  },
  {
   "cell_type": "markdown",
   "id": "4dcf7e9d",
   "metadata": {},
   "source": [
    "# Multivariable Linear Regression"
   ]
  },
  {
   "cell_type": "code",
   "execution_count": 11,
   "id": "953c878f",
   "metadata": {},
   "outputs": [],
   "source": [
    "import torch\n",
    "import torch.nn as nn\n",
    "import torch.nn.functional as F\n",
    "import torch.optim as optim"
   ]
  },
  {
   "cell_type": "code",
   "execution_count": 12,
   "id": "fc188671",
   "metadata": {},
   "outputs": [
    {
     "name": "stdout",
     "output_type": "stream",
     "text": [
      "torch.Size([5, 3])\n",
      "torch.Size([5, 1])\n"
     ]
    }
   ],
   "source": [
    "x_train  =  torch.FloatTensor([[73,  80,  75], \n",
    "                               [93,  88,  93], \n",
    "                               [89,  91,  80], \n",
    "                               [96,  98,  100],   \n",
    "                               [73,  66,  70]])  \n",
    "y_train  =  torch.FloatTensor([[152],  [185],  [180],  [196],  [142]])\n",
    "print(x_train.shape)\n",
    "print(y_train.shape)"
   ]
  },
  {
   "cell_type": "code",
   "execution_count": 13,
   "id": "4406a65c",
   "metadata": {},
   "outputs": [],
   "source": [
    "W = torch.zeros((3, 1), requires_grad=True)\n",
    "b = torch.zeros(1, requires_grad=True)"
   ]
  },
  {
   "cell_type": "code",
   "execution_count": 14,
   "id": "9de2416c",
   "metadata": {},
   "outputs": [],
   "source": [
    "optimizer = optim.SGD([W, b], lr=1e-5)"
   ]
  },
  {
   "cell_type": "code",
   "execution_count": 15,
   "id": "42b348b8",
   "metadata": {},
   "outputs": [
    {
     "name": "stdout",
     "output_type": "stream",
     "text": [
      "Epoch    0/1000 H: tensor([0., 0., 0., 0., 0.]) Cost: 29661.800781\n",
      "Epoch  300/1000 H: tensor([154.0120, 185.0385, 176.0329, 198.4569, 141.2353]) Cost: 5.281667\n",
      "Epoch  600/1000 H: tensor([153.9632, 184.9662, 176.3143, 198.2966, 141.2586]) Cost: 4.652731\n",
      "Epoch  900/1000 H: tensor([153.9126, 184.9032, 176.5724, 198.1471, 141.2855]) Cost: 4.107261\n"
     ]
    }
   ],
   "source": [
    "epochs = 1000\n",
    "for epoch in range(epochs):\n",
    "    H = x_train.matmul(W) + b\n",
    "    cost = torch.mean((H - y_train) ** 2)\n",
    "\n",
    "    optimizer.zero_grad()\n",
    "    cost.backward()\n",
    "    optimizer.step()\n",
    "\n",
    "    if epoch % 300 == 0:\n",
    "        print('Epoch {:4d}/{} H: {} Cost: {:.6f}'.format(epoch, epochs, H.squeeze().detach(), cost.item()))"
   ]
  },
  {
   "cell_type": "markdown",
   "id": "972b5097",
   "metadata": {},
   "source": [
    "# nn.Linear"
   ]
  },
  {
   "cell_type": "code",
   "execution_count": 16,
   "id": "f26f4d02",
   "metadata": {},
   "outputs": [],
   "source": [
    "import torch\n",
    "import torch.nn as nn\n",
    "import torch.nn.functional as F\n",
    "import torch.optim as optim"
   ]
  },
  {
   "cell_type": "code",
   "execution_count": 17,
   "id": "64708a33",
   "metadata": {},
   "outputs": [],
   "source": [
    "x_train = torch.FloatTensor([[1], [2], [3]])\n",
    "y_train = torch.FloatTensor([[2], [4], [6]])"
   ]
  },
  {
   "cell_type": "code",
   "execution_count": 18,
   "id": "24d83849",
   "metadata": {},
   "outputs": [],
   "source": [
    "model = nn.Linear(1, 1)\n",
    "optimizer = torch.optim.SGD(model.parameters(), lr = 0.01)"
   ]
  },
  {
   "cell_type": "code",
   "execution_count": 19,
   "id": "cf119449",
   "metadata": {},
   "outputs": [
    {
     "name": "stdout",
     "output_type": "stream",
     "text": [
      "Epoch    0/1000 Cost: 23.906942\n",
      "Epoch  100/1000 Cost: 0.145200\n",
      "Epoch  200/1000 Cost: 0.089725\n",
      "Epoch  300/1000 Cost: 0.055444\n",
      "Epoch  400/1000 Cost: 0.034261\n",
      "Epoch  500/1000 Cost: 0.021171\n",
      "Epoch  600/1000 Cost: 0.013083\n",
      "Epoch  700/1000 Cost: 0.008084\n",
      "Epoch  800/1000 Cost: 0.004996\n",
      "Epoch  900/1000 Cost: 0.003087\n"
     ]
    }
   ],
   "source": [
    "epochs = 1000\n",
    "for epoch in range(epochs):\n",
    "    prediction = model(x_train)\n",
    "    cost = F.mse_loss(prediction, y_train)\n",
    "    \n",
    "    optimizer.zero_grad()\n",
    "    cost.backward()\n",
    "    optimizer.step()\n",
    "    \n",
    "    if epoch % 100 == 0:\n",
    "        print('Epoch {:4d}/{} Cost: {:.6f}'.format(epoch, epochs, cost.item()))"
   ]
  },
  {
   "cell_type": "code",
   "execution_count": 20,
   "id": "5d8558b6",
   "metadata": {},
   "outputs": [
    {
     "name": "stdout",
     "output_type": "stream",
     "text": [
      "tensor([[7.9124]], grad_fn=<AddmmBackward>)\n"
     ]
    }
   ],
   "source": [
    "test = torch.FloatTensor([[4.0]])\n",
    "y_hat = model(test)\n",
    "print(y_hat)"
   ]
  },
  {
   "cell_type": "markdown",
   "id": "3d6265a4",
   "metadata": {},
   "source": [
    "# Class로 구현"
   ]
  },
  {
   "cell_type": "code",
   "execution_count": 21,
   "id": "1b657416",
   "metadata": {},
   "outputs": [],
   "source": [
    "class LinearRegression(nn.Module):\n",
    "    def __init__(self):\n",
    "        super().__init__()\n",
    "        self.linear = nn.Linear(1, 1)\n",
    "        \n",
    "    def forward(self, x):\n",
    "        return self.linear(x)"
   ]
  },
  {
   "cell_type": "code",
   "execution_count": 22,
   "id": "e4ab6b52",
   "metadata": {},
   "outputs": [],
   "source": [
    "model = LinearRegression()\n",
    "optimizer = torch.optim.SGD(model.parameters(), lr=0.01)"
   ]
  },
  {
   "cell_type": "code",
   "execution_count": 23,
   "id": "51b22e85",
   "metadata": {},
   "outputs": [
    {
     "name": "stdout",
     "output_type": "stream",
     "text": [
      "Epoch    0/1000 Cost: 33.919323\n",
      "Epoch  100/1000 Cost: 0.015275\n",
      "Epoch  200/1000 Cost: 0.009439\n",
      "Epoch  300/1000 Cost: 0.005833\n",
      "Epoch  400/1000 Cost: 0.003604\n",
      "Epoch  500/1000 Cost: 0.002227\n",
      "Epoch  600/1000 Cost: 0.001376\n",
      "Epoch  700/1000 Cost: 0.000850\n",
      "Epoch  800/1000 Cost: 0.000526\n",
      "Epoch  900/1000 Cost: 0.000325\n"
     ]
    }
   ],
   "source": [
    "epochs = 1000\n",
    "for epoch in range(epochs):\n",
    "    prediction = model(x_train)\n",
    "    cost = F.mse_loss(prediction, y_train)\n",
    "    \n",
    "    optimizer.zero_grad()\n",
    "    cost.backward()\n",
    "    optimizer.step()\n",
    "    \n",
    "    if epoch % 100 == 0:\n",
    "        print('Epoch {:4d}/{} Cost: {:.6f}'.format(epoch, epochs, cost.item()))"
   ]
  },
  {
   "cell_type": "code",
   "execution_count": null,
   "id": "5c56648c",
   "metadata": {},
   "outputs": [],
   "source": []
  }
 ],
 "metadata": {
  "kernelspec": {
   "display_name": "Python 3 (ipykernel)",
   "language": "python",
   "name": "python3"
  },
  "language_info": {
   "codemirror_mode": {
    "name": "ipython",
    "version": 3
   },
   "file_extension": ".py",
   "mimetype": "text/x-python",
   "name": "python",
   "nbconvert_exporter": "python",
   "pygments_lexer": "ipython3",
   "version": "3.8.10"
  }
 },
 "nbformat": 4,
 "nbformat_minor": 5
}
